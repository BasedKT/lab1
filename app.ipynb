{
 "cells": [
  {
   "cell_type": "code",
   "execution_count": 20,
   "outputs": [],
   "source": [
    "import numpy as np\n",
    "import matplotlib.pyplot as plt\n",
    "\n",
    "\n",
    "class Function:\n",
    "    def __init__(self, value, grad):\n",
    "        self.value = value\n",
    "        self.grad = grad\n",
    "\n",
    "\n",
    "def grad_desc(func, lr, x, eps):\n",
    "    points = [x]\n",
    "\n",
    "    while True:\n",
    "        prev_x = x\n",
    "        x = x - lr(func, x) * func.grad(x)\n",
    "        points.append(x)\n",
    "        if abs(func.value(x) - func.value(prev_x)) < eps:\n",
    "            break\n",
    "\n",
    "    return np.array(points)\n",
    "\n",
    "\n",
    "def right_border_calc(func, x):\n",
    "    right_start = 1\n",
    "    zero = func.value(func.grad(x))\n",
    "    while zero >= func.value(x - right_start * func.grad(x)):\n",
    "        right_start *= 2\n",
    "\n",
    "    return x - right_start * func.grad(x)\n",
    "\n",
    "\n",
    "def dist(a, b):\n",
    "    return np.linalg.norm(b - a)\n",
    "\n",
    "\n",
    "def dichotomy(func, start, end, eps, delt):\n",
    "    a_1 = start\n",
    "    a_2 = end\n",
    "    norm_vector = (end - start) / np.linalg.norm(end - start)\n",
    "    while abs(dist(a_1, a_2)) >= eps:\n",
    "        new_a_1 = (a_1 + a_2) / 2 - delt * norm_vector\n",
    "        new_a_2 = (a_1 + a_2) / 2 + delt * norm_vector\n",
    "\n",
    "        if func.value(new_a_2) > func.value(new_a_1):\n",
    "            a_2 = new_a_2\n",
    "        else:\n",
    "            a_1 = new_a_1\n",
    "\n",
    "    return dist(start, (a_1 + a_2) / 2) / np.linalg.norm(func.grad(start))\n"
   ],
   "metadata": {
    "collapsed": false
   }
  },
  {
   "cell_type": "code",
   "execution_count": null,
   "outputs": [],
   "source": [
    "eps = 0.0001\n",
    "delt = 0.000001\n",
    "\n",
    "\n",
    "def grad_func(x):\n",
    "    return np.array((2 * (x[0] - 4), -2 * (5 - x[1])))\n",
    "\n",
    "\n",
    "def func(x):\n",
    "    return np.array((x[0] - 4) ** 2 + (5 - x[1]) ** 2)\n",
    "\n",
    "\n",
    "def lr_wrapper(func, x):\n",
    "    return dichotomy(func,\n",
    "                     x, right_border_calc(func, x),\n",
    "                     eps, delt)\n",
    "\n",
    "\n",
    "print(grad_desc(Function(func, grad_func), lr_wrapper, np.array((20, 20)), eps))"
   ],
   "metadata": {
    "collapsed": false,
    "pycharm": {
     "is_executing": true
    }
   }
  }
 ],
 "metadata": {
  "kernelspec": {
   "display_name": "Python 3",
   "language": "python",
   "name": "python3"
  },
  "language_info": {
   "codemirror_mode": {
    "name": "ipython",
    "version": 2
   },
   "file_extension": ".py",
   "mimetype": "text/x-python",
   "name": "python",
   "nbconvert_exporter": "python",
   "pygments_lexer": "ipython2",
   "version": "2.7.6"
  }
 },
 "nbformat": 4,
 "nbformat_minor": 0
}
