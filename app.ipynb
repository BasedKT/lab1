{
 "cells": [
  {
   "cell_type": "code",
   "execution_count": 48,
   "metadata": {
    "collapsed": true
   },
   "outputs": [],
   "source": [
    "import numpy as np\n",
    "import matplotlib.pyplot as plt\n",
    "\n",
    "\n",
    "def grad_desc(func, grad, lr, x, eps):\n",
    "    points = np.array(x)\n",
    "\n",
    "    while True:\n",
    "        prev_x = x\n",
    "        x = x - lr(x) * np.array(grad(x[0], x[1]))\n",
    "        points = np.concatenate((points, x))\n",
    "\n",
    "        if abs(func(x[0], x[1]) - func(prev_x[0], prev_x[1])) < eps:\n",
    "            break\n",
    "\n",
    "    return points\n",
    "\n",
    "\n",
    "def grad_func(x, y):\n",
    "    return np.array((2 * (x - 4), -2 * (5 - y)))\n",
    "\n",
    "\n",
    "def func(x, y):\n",
    "    return np.array((x - 4) ** 2 + (5 - y) ** 2)\n"
   ]
  },
  {
   "cell_type": "code",
   "execution_count": 49,
   "outputs": [
    {
     "data": {
      "text/plain": "array([20.        , 20.        , 18.4       , 18.5       , 16.96      ,\n       17.15      , 15.664     , 15.935     , 14.4976    , 14.8415    ,\n       13.44784   , 13.85735   , 12.503056  , 12.971615  , 11.6527504 ,\n       12.1744535 , 10.88747536, 11.45700815, 10.19872782, 10.81130733,\n        9.57885504, 10.2301766 ,  9.02096954,  9.70715894,  8.51887258,\n        9.23644305,  8.06698533,  8.81279874,  7.66028679,  8.43151887,\n        7.29425811,  8.08836698,  6.9648323 ,  7.77953028,  6.66834907,\n        7.50157725,  6.40151416,  7.25141953,  6.16136275,  7.02627758,\n        5.94522647,  6.82364982,  5.75070383,  6.64128484,  5.57563344,\n        6.47715635,  5.4180701 ,  6.32944072,  5.27626309,  6.19649665,\n        5.14863678,  6.07684698,  5.0337731 ,  5.96916228,  4.93039579,\n        5.87224606,  4.83735621,  5.78502145,  4.75362059,  5.7065193 ,\n        4.67825853,  5.63586737,  4.61043268,  5.57228064,  4.54938941,\n        5.51505257,  4.49445047,  5.46354732,  4.44500542,  5.41719258,\n        4.40050488,  5.37547333,  4.36045439,  5.33792599,  4.32440895,\n        5.30413339,  4.29196806,  5.27372005,  4.26277125,  5.24634805,\n        4.23649413,  5.22171324,  4.21284471,  5.19954192,  4.19156024,\n        5.17958773,  4.17240422,  5.16162895,  4.1551638 ,  5.14546606,\n        4.13964742,  5.13091945])"
     },
     "execution_count": 49,
     "metadata": {},
     "output_type": "execute_result"
    }
   ],
   "source": [
    "grad_desc(func, grad_func, lambda x: 0.05, np.array((20, 20)), 0.01)"
   ],
   "metadata": {
    "collapsed": false
   }
  },
  {
   "cell_type": "markdown",
   "source": [],
   "metadata": {
    "collapsed": false
   }
  }
 ],
 "metadata": {
  "kernelspec": {
   "display_name": "Python 3",
   "language": "python",
   "name": "python3"
  },
  "language_info": {
   "codemirror_mode": {
    "name": "ipython",
    "version": 2
   },
   "file_extension": ".py",
   "mimetype": "text/x-python",
   "name": "python",
   "nbconvert_exporter": "python",
   "pygments_lexer": "ipython2",
   "version": "2.7.6"
  }
 },
 "nbformat": 4,
 "nbformat_minor": 0
}
