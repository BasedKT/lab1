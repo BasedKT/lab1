{
 "cells": [
  {
   "cell_type": "code",
   "execution_count": null,
   "metadata": {
    "collapsed": true,
    "pycharm": {
     "is_executing": true
    }
   },
   "outputs": [],
   "source": [
    "import numpy as np\n",
    "import matplotlib.pyplot as plt\n",
    "\n",
    "\n",
    "def grad_desc_with_const_lr(grad, lr, epoch, x):\n",
    "    points = np.zeros((epoch, 2))\n",
    "    points[0] = x\n",
    "\n",
    "    for i in range(1, epoch):\n",
    "        x = x - lr * np.array(grad(x[0], x[1]))\n",
    "        points[i] = x\n",
    "\n",
    "    return points\n",
    "\n",
    "def grad_func(x, y):\n",
    "    return np.array((2 * (x - 4), -2 * (5 - y)))\n"
   ]
  }
 ],
 "metadata": {
  "kernelspec": {
   "display_name": "Python 3",
   "language": "python",
   "name": "python3"
  },
  "language_info": {
   "codemirror_mode": {
    "name": "ipython",
    "version": 2
   },
   "file_extension": ".py",
   "mimetype": "text/x-python",
   "name": "python",
   "nbconvert_exporter": "python",
   "pygments_lexer": "ipython2",
   "version": "2.7.6"
  }
 },
 "nbformat": 4,
 "nbformat_minor": 0
}
