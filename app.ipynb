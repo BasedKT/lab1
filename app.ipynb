{
 "cells": [
  {
   "cell_type": "code",
   "execution_count": 72,
   "outputs": [],
   "source": [
    "import numpy as np\n",
    "import matplotlib.pyplot as plt\n",
    "\n",
    "\n",
    "class Function:\n",
    "    def __init__(self, value, delt=0.001):\n",
    "        self.value = value\n",
    "\n",
    "        def grad(x):\n",
    "            array = []\n",
    "            for i in range(len(x)):\n",
    "                x[i] += delt\n",
    "                first_val = value(x)\n",
    "                x[i] -= 2 * delt\n",
    "                second_val = value(x)\n",
    "                x[i] += delt\n",
    "                array.append((first_val - second_val) / (2 * delt))\n",
    "            return np.array(array)\n",
    "\n",
    "        self.grad = grad\n",
    "\n",
    "\n",
    "wolfe_cond_template = lambda c1, c2, x, func, gk: lambda a, b: ((func.value(x - ((a + b) / 2) * gk) <= (func.value(x) + c1 * ((a + b) / 2) * np.dot(gk, -gk))) and (np.dot(func.grad(x - ((a + b) / 2) * gk), -gk) >= c2 * np.dot(gk, -gk)))\n",
    "\n",
    "wolfe_cond = lambda: \"\"\n",
    "\n",
    "\n",
    "def grad_desc(func, lr, x, eps, is_wolfe = False):\n",
    "    global wolfe_cond\n",
    "    points = [x]\n",
    "\n",
    "    while True:\n",
    "        prev_x = x\n",
    "        grad = func.grad(x)\n",
    "        if is_wolfe:\n",
    "            wolfe_cond = wolfe_cond_template(0.1, 0.9, x, func, grad)\n",
    "        x = x - lr(Function(lambda a: func.value(x - a * grad)), is_wolfe) * grad\n",
    "        points.append(x)\n",
    "        if abs(func.value(x) - func.value(prev_x)) < eps:\n",
    "            break\n",
    "\n",
    "    return np.array(points)\n",
    "\n",
    "\n",
    "def right_border_calc(func):\n",
    "    right_start = 0.25\n",
    "    zero = func.value(0)\n",
    "    while zero >= func.value(right_start):\n",
    "        right_start *= 2\n",
    "\n",
    "    return right_start\n",
    "\n",
    "\n",
    "def dichotomy(func, a_1, a_2, eps, delt, is_wolfe):\n",
    "    cond = lambda a, b: abs(a - b) >= eps\n",
    "    if is_wolfe:\n",
    "        cond = wolfe_cond\n",
    "    while cond(a_1, a_2):\n",
    "        new_a_1 = (a_1 + a_2) / 2 - delt\n",
    "        new_a_2 = (a_1 + a_2) / 2 + delt\n",
    "\n",
    "        if func.value(new_a_2) > func.value(new_a_1):\n",
    "            a_2 = new_a_2\n",
    "        else:\n",
    "            a_1 = new_a_1\n",
    "\n",
    "    return (a_1 + a_2) / 2\n"
   ],
   "metadata": {
    "collapsed": false
   }
  },
  {
   "cell_type": "code",
   "execution_count": 73,
   "outputs": [
    {
     "name": "stdout",
     "output_type": "stream",
     "text": [
      "[[20.         20.        ]\n",
      " [18.38734125  4.88132422]\n",
      " [ 4.82040989  6.0004095 ]\n",
      " [ 4.73771982  4.99208504]\n",
      " [ 4.0685785   5.06387687]\n",
      " [ 4.06166639  4.99949462]\n",
      " [ 4.0035164   5.0042602 ]\n",
      " [ 4.00316198  4.99996629]]\n",
      "[[ 20.          20.        ]\n",
      " [ 16.8        -10.        ]\n",
      " [ 14.24        20.        ]\n",
      " [ 12.192      -10.        ]\n",
      " [ 10.5536      20.        ]\n",
      " [  9.24288    -10.        ]\n",
      " [  8.194304    20.        ]\n",
      " [  7.3554432  -10.        ]\n",
      " [  6.68435456  20.        ]\n",
      " [  6.14748365 -10.        ]\n",
      " [  5.71798692  20.        ]\n",
      " [  5.37438953 -10.        ]\n",
      " [  5.09951163  20.        ]\n",
      " [  4.8796093  -10.        ]\n",
      " [  4.70368744  20.        ]\n",
      " [  4.56294995 -10.        ]\n",
      " [  4.45035996  20.        ]\n",
      " [  4.36028797 -10.        ]\n",
      " [  4.28823038  20.        ]\n",
      " [  4.2305843  -10.        ]\n",
      " [  4.18446744  20.        ]\n",
      " [  4.14757395 -10.        ]\n",
      " [  4.11805916  20.        ]\n",
      " [  4.09444733 -10.        ]\n",
      " [  4.07555786  20.        ]\n",
      " [  4.06044629 -10.        ]\n",
      " [  4.04835703  20.        ]\n",
      " [  4.03868563 -10.        ]]\n"
     ]
    }
   ],
   "source": [
    "\n",
    "def example1(x):\n",
    "    return (x[0] - 4) ** 2 / 10 + (5 - x[1]) ** 2\n",
    "\n",
    "\n",
    "def lr_wrapper(eps, delt):\n",
    "    return lambda func, is_wolfe: dichotomy(func, 0, right_border_calc(func), eps, delt, is_wolfe)\n",
    "\n",
    "\n",
    "print(grad_desc(Function(example1), lr_wrapper(0.01, 0.0001), np.array((20., 20.)), 0.0001))\n",
    "print(grad_desc(Function(example1), lr_wrapper(0.01, 0.0001), np.array((20., 20.)), 0.0001, True))"
   ],
   "metadata": {
    "collapsed": false
   }
  },
  {
   "cell_type": "code",
   "execution_count": 73,
   "outputs": [],
   "source": [],
   "metadata": {
    "collapsed": false
   }
  }
 ],
 "metadata": {
  "kernelspec": {
   "display_name": "Python 3",
   "language": "python",
   "name": "python3"
  },
  "language_info": {
   "codemirror_mode": {
    "name": "ipython",
    "version": 2
   },
   "file_extension": ".py",
   "mimetype": "text/x-python",
   "name": "python",
   "nbconvert_exporter": "python",
   "pygments_lexer": "ipython2",
   "version": "2.7.6"
  }
 },
 "nbformat": 4,
 "nbformat_minor": 0
}
