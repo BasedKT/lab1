{
 "cells": [
  {
   "cell_type": "code",
   "execution_count": 3,
   "outputs": [
    {
     "data": {
      "text/plain": "array([20.        , 20.        ,  4.108875  ,  5.10207031,  4.00074086,\n        5.00069456,  4.00000504,  5.00000473])"
     },
     "execution_count": 3,
     "metadata": {},
     "output_type": "execute_result"
    }
   ],
   "source": [
    "import numpy as np\n",
    "import matplotlib.pyplot as plt\n",
    "\n",
    "eps = 0.01\n",
    "\n",
    "d = 0.001\n",
    "\n",
    "\n",
    "def grad_desc(func, grad, lr, x, eps):\n",
    "    points = np.array(x)\n",
    "\n",
    "    while True:\n",
    "        prev_x = x\n",
    "        x = x - lr(x) * np.array(grad(x[0], x[1]))\n",
    "        points = np.concatenate((points, x))\n",
    "        if abs(func(x[0], x[1]) - func(prev_x[0], prev_x[1])) < eps:\n",
    "            break\n",
    "\n",
    "    return points\n",
    "\n",
    "\n",
    "def grad_func(x, y):\n",
    "    return np.array((2 * (x - 4), -2 * (5 - y)))\n",
    "\n",
    "\n",
    "def func(x, y):\n",
    "    return np.array((x - 4) ** 2 + (5 - y) ** 2)\n",
    "\n",
    "def calc(arg, x):\n",
    "    return func((x - arg * np.array(grad_func(x[0], x[1])))[0],\n",
    "                (x - arg * np.array(grad_func(x[0], x[1])))[1])\n",
    "\n",
    "def right_border_calc(x):\n",
    "    right_start = 1\n",
    "    zero = calc(0, x)\n",
    "    while True:\n",
    "        if zero < calc(right_start, x): return right_start\n",
    "        right_start *= 2\n",
    "\n",
    "def wrapper(x):\n",
    "    return dichotomy(x, 0, right_border_calc(x))\n",
    "\n",
    "def dichotomy(x, a_1, a_2):\n",
    "    while True:\n",
    "        if abs(a_1 - a_2) < eps: break\n",
    "        new_a_1 = (a_1 + a_2) / 2 - d\n",
    "        new_a_2 = (a_1 + a_2) / 2 + d\n",
    "        new_a_1_ = calc(new_a_1, x)\n",
    "        new_a_2_ = calc(new_a_2, x)\n",
    "        if new_a_2_ > new_a_1_:\n",
    "            a_2 = new_a_2\n",
    "        else:\n",
    "            a_1 = new_a_1\n",
    "    return (a_1 + a_2) / 2\n",
    "\n",
    "grad_desc(func, grad_func, wrapper, np.array((20, 20)), eps)"
   ],
   "metadata": {
    "collapsed": false
   }
  }
 ],
 "metadata": {
  "kernelspec": {
   "display_name": "Python 3",
   "language": "python",
   "name": "python3"
  },
  "language_info": {
   "codemirror_mode": {
    "name": "ipython",
    "version": 2
   },
   "file_extension": ".py",
   "mimetype": "text/x-python",
   "name": "python",
   "nbconvert_exporter": "python",
   "pygments_lexer": "ipython2",
   "version": "2.7.6"
  }
 },
 "nbformat": 4,
 "nbformat_minor": 0
}
