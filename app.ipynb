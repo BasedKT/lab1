{
 "cells": [
  {
   "cell_type": "code",
   "execution_count": 5,
   "outputs": [],
   "source": [
    "import numpy as np\n",
    "import matplotlib.pyplot as plt\n",
    "\n",
    "\n",
    "class Function:\n",
    "    def __init__(self, value, delt=0.001):\n",
    "        self.value = value\n",
    "\n",
    "        def grad(x):\n",
    "            array = []\n",
    "            for i in range(len(x)):\n",
    "                x[i] += delt\n",
    "                first_val = value(x)\n",
    "                x[i] -= 2 * delt\n",
    "                second_val = value(x)\n",
    "                x[i] += delt\n",
    "                array.append((first_val - second_val) / (2 * delt))\n",
    "            return np.array(array)\n",
    "\n",
    "        self.grad = grad\n",
    "\n",
    "\n",
    "def grad_desc(func, lr, x, eps):\n",
    "    points = [x]\n",
    "\n",
    "    while True:\n",
    "        prev_x = x\n",
    "        x = x - lr(Function(lambda a: func.value(x - a * func.grad(x)))) * func.grad(x)\n",
    "        points.append(x)\n",
    "        if abs(func.value(x) - func.value(prev_x)) < eps:\n",
    "            break\n",
    "\n",
    "    return np.array(points)\n",
    "\n",
    "\n",
    "def right_border_calc(func):\n",
    "    right_start = 0.25\n",
    "    zero = func.value(0)\n",
    "    while zero >= func.value(right_start):\n",
    "        right_start *= 2\n",
    "\n",
    "    return right_start\n",
    "\n",
    "\n",
    "def dichotomy(func, a_1, a_2, eps, delt):\n",
    "    while abs(a_1 - a_2) >= eps:\n",
    "        new_a_1 = (a_1 + a_2) / 2 - delt\n",
    "        new_a_2 = (a_1 + a_2) / 2 + delt\n",
    "\n",
    "        if func.value(new_a_2) > func.value(new_a_1):\n",
    "            a_2 = new_a_2\n",
    "        else:\n",
    "            a_1 = new_a_1\n",
    "\n",
    "    return (a_1 + a_2) / 2\n"
   ],
   "metadata": {
    "collapsed": false
   }
  },
  {
   "cell_type": "code",
   "execution_count": 6,
   "outputs": [
    {
     "name": "stdout",
     "output_type": "stream",
     "text": [
      "[[  20.           20.        ]\n",
      " [1000.78030584    9.99203769]\n",
      " [ 999.63971547    5.12738946]\n",
      " [1000.00647911    5.0409359 ]\n",
      " [ 999.99700845    5.00104462]]\n"
     ]
    }
   ],
   "source": [
    "\n",
    "def func(x):\n",
    "    return (x[0] - 4) ** 2 / 10 + (5 - x[1]) ** 2\n",
    "\n",
    "\n",
    "def lr_wrapper(eps, delt):\n",
    "    return lambda func: dichotomy(func, 0, right_border_calc(func), eps, delt)\n",
    "\n",
    "\n",
    "print(grad_desc(Function(func), lr_wrapper(0.01, 0.0002), np.array((20., 20.)), 0.001))"
   ],
   "metadata": {
    "collapsed": false
   }
  },
  {
   "cell_type": "code",
   "execution_count": 6,
   "outputs": [],
   "source": [],
   "metadata": {
    "collapsed": false
   }
  }
 ],
 "metadata": {
  "kernelspec": {
   "display_name": "Python 3",
   "language": "python",
   "name": "python3"
  },
  "language_info": {
   "codemirror_mode": {
    "name": "ipython",
    "version": 2
   },
   "file_extension": ".py",
   "mimetype": "text/x-python",
   "name": "python",
   "nbconvert_exporter": "python",
   "pygments_lexer": "ipython2",
   "version": "2.7.6"
  }
 },
 "nbformat": 4,
 "nbformat_minor": 0
}
