{
 "cells": [
  {
   "cell_type": "code",
   "execution_count": null,
   "outputs": [],
   "source": [
    "import random\n",
    "import numpy as np\n",
    "\n",
    "\n",
    "class Function:\n",
    "    def __init__(self, value, delt=0.001):\n",
    "        self.value = value\n",
    "\n",
    "        def grad(x):\n",
    "            array = []\n",
    "            for i in range(len(x)):\n",
    "                x[i] += delt\n",
    "                first_val = value(x)\n",
    "                x[i] -= 2 * delt\n",
    "                second_val = value(x)\n",
    "                x[i] += delt\n",
    "                array.append((first_val - second_val) / (2 * delt))\n",
    "            return np.array(array)\n",
    "\n",
    "        self.grad = grad\n",
    "\n",
    "\n",
    "wolfe_cond_template = lambda c1, c2, x, func, gk: lambda a, b: not (\n",
    "        (func.value(x - ((a + b) / 2) * gk) <= (func.value(x) + c1 * ((a + b) / 2) * np.dot(gk, -gk))) and (\n",
    "        np.dot(func.grad(x - ((a + b) / 2) * gk), -gk) >= c2 * np.dot(gk, -gk)))\n",
    "\n",
    "wolfe_cond = lambda: \"\"\n",
    "\n",
    "\n",
    "def grad_desc(func, lr, x, eps, is_wolfe=False, left_wolfe_bound=0.1, right_wolfe_bound=0.9, need_points=True,\n",
    "              max_num_of_step=1000):\n",
    "    global wolfe_cond\n",
    "    num_of_steps = 0\n",
    "    points = [x]\n",
    "    while True:\n",
    "        prev_x = x\n",
    "        grad = func.grad(x)\n",
    "        if is_wolfe:\n",
    "            wolfe_cond = wolfe_cond_template(left_wolfe_bound, right_wolfe_bound, x, func, grad)\n",
    "        x = x - lr(Function(lambda a: func.value(x - a * grad)), is_wolfe) * grad\n",
    "        if need_points:\n",
    "            points.append(x)\n",
    "        num_of_steps += 1\n",
    "        if abs(func.value(x) - func.value(prev_x)) < eps or num_of_steps >= max_num_of_step:\n",
    "            break\n",
    "\n",
    "    if need_points: return np.array(points)\n",
    "    return num_of_steps\n",
    "\n",
    "\n",
    "def right_border_calc(func):\n",
    "    right_start = 0.25\n",
    "    zero = func.value(0)\n",
    "    while zero >= func.value(right_start):\n",
    "        right_start *= 2\n",
    "\n",
    "    return right_start\n",
    "\n",
    "\n",
    "def dichotomy(func, a_1, a_2, eps, delt, is_wolfe=False):\n",
    "    cond = lambda a, b: abs(a - b) >= eps\n",
    "    if is_wolfe:\n",
    "        cond = wolfe_cond\n",
    "    while cond(a_1, a_2):\n",
    "        new_a_1 = (a_1 + a_2) / 2 - delt\n",
    "        new_a_2 = (a_1 + a_2) / 2 + delt\n",
    "\n",
    "        if func.value(new_a_2) > func.value(new_a_1):\n",
    "            a_2 = new_a_2\n",
    "        else:\n",
    "            a_1 = new_a_1\n",
    "\n",
    "    return (a_1 + a_2) / 2\n",
    "\n",
    "\n",
    "def func_generator(n, k):\n",
    "    vals = [random.uniform(1.0, k) for _ in range(n)]\n",
    "    vals.sort()\n",
    "    vals[0] = 1\n",
    "    vals[n - 1] = k\n",
    "    q, r = np.linalg.qr(np.random.rand(n, n))\n",
    "    matr = np.matmul(np.matmul(q, np.diag(vals)), np.transpose(q))\n",
    "    return matr\n",
    "\n",
    "\n",
    "class GeneratedFunctionCalculator(Function):\n",
    "    def __init__(self, matr):\n",
    "        super().__init__(lambda x: sum(matr[i][j] * x[i] * x[j] for i in range(len(x)) for j in range(len(x))))\n",
    "        self.matr = matr"
   ],
   "metadata": {
    "collapsed": false
   }
  },
  {
   "cell_type": "code",
   "execution_count": null,
   "outputs": [],
   "source": [
    "import matplotlib.pyplot as plt\n",
    "\n",
    "\n",
    "def lr_wrapper(eps, delt):\n",
    "    return lambda func, is_wolfe=False: dichotomy(func, 0, right_border_calc(func), eps, delt, is_wolfe)\n",
    "\n",
    "\n",
    "def func1(x):\n",
    "    return 5 * (x[0] - 4) ** 2 + (5 - x[1]) ** 2\n",
    "\n",
    "\n",
    "def func2(x):\n",
    "    return 3 * x[0] ** 2 + x[1] ** 2 / 5\n",
    "\n",
    "\n",
    "def func3(x):\n",
    "    return (x[0] - 6) * (x[1] + 8) + 2 * x[0] ** 2 + 4 * x[1] ** 2\n",
    "\n",
    "\n",
    "def visualise_points(func, points):\n",
    "    XX = np.linspace(min(points[-1][0], points[0][0]) - 30, max(points[-1][0], points[0][0]) + 30, 500)\n",
    "    YY = np.linspace(min(points[-1][1], points[0][1]) - 30, max(points[-1][1], points[0][1]) + 30, 500)\n",
    "    X, Y = np.meshgrid(XX, YY)\n",
    "    plt.contour(X, Y, func.value([X, Y]), 20)\n",
    "\n",
    "    plt.plot(points[:, 0], points[:, 1])\n",
    "    plt.plot(points[0][0], points[0][1], 'og')\n",
    "    plt.plot(points[-1][0], points[-1][1], 'or')\n",
    "    plt.show()\n",
    "\n",
    "\n",
    "functions = [Function(func) for func in [func1, func2, func3]]"
   ],
   "metadata": {
    "collapsed": false
   }
  },
  {
   "cell_type": "markdown",
   "source": [
    "### 4(a) Сходимость с постоянным шагом"
   ],
   "metadata": {
    "collapsed": false
   }
  },
  {
   "cell_type": "code",
   "execution_count": null,
   "outputs": [],
   "source": [
    "def test_convergence_const_lr(func):\n",
    "    lr = 0.01\n",
    "    eps = 0.001\n",
    "    x = np.array((20., 20.))\n",
    "\n",
    "    print('Const rate: ' + str(lr) + ' | Start x: ' + str(x) + ' Epsilon: ' + str(eps))\n",
    "    points = grad_desc(func, lambda *_: lr, x, eps)\n",
    "    print('Count steps: ' + str(len(points)))\n",
    "    print('Final point: ' + str(points[-1]))\n",
    "    visualise_points(func, points)\n",
    "    print()\n",
    "\n",
    "\n",
    "for func in functions:\n",
    "    test_convergence_const_lr(func)"
   ],
   "metadata": {
    "collapsed": false
   }
  },
  {
   "cell_type": "markdown",
   "source": [
    "### 4(b) Сравнение количества"
   ],
   "metadata": {
    "collapsed": false
   }
  },
  {
   "cell_type": "code",
   "execution_count": null,
   "outputs": [],
   "source": [
    "def compare_count_calculations(func):\n",
    "    lr = 0.01\n",
    "    eps = 0.01\n",
    "    delt = 0.001\n",
    "    x = np.array((20., 20.))\n",
    "\n",
    "    print('Const rate: ' + str(lr) + ' | Start x: ' + str(x) + ' Epsilon: ' + str(eps))\n",
    "    points_const_lr = grad_desc(func, lambda *_: lr, x, eps)\n",
    "    print('Count steps with const rate: ' + str(len(points_const_lr)))\n",
    "    print('Final point with const rate: ' + str(points_const_lr[-1]))\n",
    "    visualise_points(func, points_const_lr)\n",
    "\n",
    "    print('Start x: ' + str(x) + ' Epsilon: ' + str(eps) + ' | Delta: ' + str(delt))\n",
    "    points_dichotomy = grad_desc(func, lr_wrapper(eps, delt), x, eps)\n",
    "    print('Count steps with dichotomy: ' + str(len(points_dichotomy)))\n",
    "    print('Final point with dichotomy: ' + str(points_dichotomy[-1]))\n",
    "    visualise_points(func, points_dichotomy)\n",
    "    print()\n",
    "\n",
    "\n",
    "for func in functions:\n",
    "    compare_count_calculations(func)"
   ],
   "metadata": {
    "collapsed": false
   }
  },
  {
   "cell_type": "markdown",
   "source": [
    "### 4(c) Тест на разные начальные точки"
   ],
   "metadata": {
    "collapsed": false
   }
  },
  {
   "cell_type": "code",
   "execution_count": null,
   "outputs": [],
   "source": [
    "def test_different_start_points(func):\n",
    "    start_x = [np.array(x) for x in [(20., 20.), (-5., -10.), (-8., 10.)]]\n",
    "    for x in start_x:\n",
    "        lr = 0.01\n",
    "        eps = 0.01\n",
    "        delt = 0.001\n",
    "\n",
    "        print('Const rate: ' + str(lr) + ' | Start x: ' + str(x) + ' Epsilon: ' + str(eps))\n",
    "        points_const_lr = grad_desc(func, lambda *_: lr, x, eps)\n",
    "        print('Count steps with const rate: ' + str(len(points_const_lr)))\n",
    "        print('Final point with const rate: ' + str(points_const_lr[-1]))\n",
    "        visualise_points(func, points_const_lr)\n",
    "\n",
    "        print('Start x: ' + str(x) + ' Epsilon: ' + str(eps) + ' | Delta: ' + str(delt))\n",
    "        points_dichotomy = grad_desc(func, lr_wrapper(eps, delt), x, eps)\n",
    "        print('Count steps with dichotomy: ' + str(len(points_dichotomy)))\n",
    "        print('Final point with dichotomy: ' + str(points_dichotomy[-1]))\n",
    "        visualise_points(func, points_dichotomy)\n",
    "        print()\n",
    "\n",
    "\n",
    "for func in functions:\n",
    "    test_different_start_points(func)"
   ],
   "metadata": {
    "collapsed": false
   }
  },
  {
   "cell_type": "markdown",
   "source": [
    "### 4(d) Исследование влияния нормализации"
   ],
   "metadata": {
    "collapsed": false
   }
  },
  {
   "cell_type": "code",
   "execution_count": null,
   "outputs": [],
   "source": [],
   "metadata": {
    "collapsed": false
   }
  },
  {
   "cell_type": "markdown",
   "source": [
    "### 6 Исследование зависимости числа итераций от размерности пространства и числа обусловленности функции"
   ],
   "metadata": {
    "collapsed": false
   }
  },
  {
   "cell_type": "code",
   "execution_count": null,
   "outputs": [],
   "source": [],
   "metadata": {
    "collapsed": false
   }
  }
 ],
 "metadata": {
  "kernelspec": {
   "display_name": "Python 3",
   "language": "python",
   "name": "python3"
  },
  "language_info": {
   "codemirror_mode": {
    "name": "ipython",
    "version": 2
   },
   "file_extension": ".py",
   "mimetype": "text/x-python",
   "name": "python",
   "nbconvert_exporter": "python",
   "pygments_lexer": "ipython2",
   "version": "2.7.6"
  }
 },
 "nbformat": 4,
 "nbformat_minor": 0
}
