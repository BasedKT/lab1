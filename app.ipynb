{
 "cells": [
  {
   "cell_type": "code",
   "execution_count": 7,
   "outputs": [],
   "source": [
    "import random\n",
    "\n",
    "import numpy as np\n",
    "import sympy as sp\n",
    "import matplotlib.pyplot as plt\n",
    "\n",
    "\n",
    "class Function:\n",
    "    def __init__(self, value, delt=0.001):\n",
    "        self.value = value\n",
    "\n",
    "        def grad(x):\n",
    "            array = []\n",
    "            for i in range(len(x)):\n",
    "                x[i] += delt\n",
    "                first_val = value(x)\n",
    "                x[i] -= 2 * delt\n",
    "                second_val = value(x)\n",
    "                x[i] += delt\n",
    "                array.append((first_val - second_val) / (2 * delt))\n",
    "            return np.array(array)\n",
    "\n",
    "        self.grad = grad\n",
    "\n",
    "\n",
    "def grad_desc(func, lr, x, eps):\n",
    "    points = [x]\n",
    "\n",
    "    while True:\n",
    "        prev_x = x\n",
    "        x = x - lr(Function(lambda a: func.value(x - a * func.grad(x)))) * func.grad(x)\n",
    "        points.append(x)\n",
    "        if abs(func.value(x) - func.value(prev_x)) < eps:\n",
    "            break\n",
    "\n",
    "    return np.array(points)\n",
    "\n",
    "\n",
    "def right_border_calc(func):\n",
    "    right_start = 0.25\n",
    "    zero = func.value(0)\n",
    "    while zero >= func.value(right_start):\n",
    "        right_start *= 2\n",
    "\n",
    "    return right_start\n",
    "\n",
    "\n",
    "def dichotomy(func, a_1, a_2, eps, delt):\n",
    "    while abs(a_1 - a_2) >= eps:\n",
    "        new_a_1 = (a_1 + a_2) / 2 - delt\n",
    "        new_a_2 = (a_1 + a_2) / 2 + delt\n",
    "\n",
    "        if func.value(new_a_2) > func.value(new_a_1):\n",
    "            a_2 = new_a_2\n",
    "        else:\n",
    "            a_1 = new_a_1\n",
    "\n",
    "    return (a_1 + a_2) / 2\n",
    "\n",
    "\n",
    "def func_generator(n, k):\n",
    "    vals = [random.uniform(1.0, k) for _ in range(n)]\n",
    "    vals.sort()\n",
    "    vals[0] = 1\n",
    "    vals[n - 1] = k\n",
    "    q, r = np.linalg.qr(np.random.rand(n, n))\n",
    "    matr = np.matmul(np.matmul(q, np.diag(vals)), np.transpose(q))\n",
    "    return matr\n",
    "\n",
    "\n",
    "class FunctionCalculator:\n",
    "    def __init__(self, matr):\n",
    "        self.matr = matr\n",
    "\n",
    "        def calculate(vect):\n",
    "            return sum(matr[i][j] * vect[i] * vect[j] for i in range(len(vect)) for j in range(len(vect)))\n",
    "\n",
    "        self.calculate = calculate"
   ],
   "metadata": {
    "collapsed": false
   }
  },
  {
   "cell_type": "code",
   "execution_count": 8,
   "outputs": [
    {
     "name": "stdout",
     "output_type": "stream",
     "text": [
      "[[2.00000000e+01 2.00000000e+01 2.00000000e+01 2.00000000e+01]\n",
      " [8.14413770e+00 1.30828320e+01 1.56999241e+01 2.18264776e+00]\n",
      " [4.49023799e+00 9.25812440e+00 9.24992343e+00 7.61104985e+00]\n",
      " [2.75347168e+00 5.02910294e+00 6.13542045e+00 5.19420737e-01]\n",
      " [1.49679689e+00 3.51683778e+00 3.50489049e+00 2.93335365e+00]\n",
      " [1.10345412e+00 2.05692880e+00 2.46943232e+00 3.51650277e-01]\n",
      " [5.95450293e-01 1.41337106e+00 1.39822636e+00 1.21679556e+00]\n",
      " [4.63650596e-01 8.72973641e-01 1.03958707e+00 1.77299725e-01]\n",
      " [2.55575121e-01 6.02305886e-01 5.99246257e-01 5.07658666e-01]\n",
      " [1.92692533e-01 3.61851573e-01 4.31852645e-01 7.04613991e-02]\n",
      " [1.05629277e-01 2.49394910e-01 2.47772344e-01 2.11382090e-01]\n",
      " [8.00878777e-02 1.49992916e-01 1.79402512e-01 2.79261737e-02]\n",
      " [4.36546051e-02 1.03266128e-01 1.02442310e-01 8.80234926e-02]\n",
      " [3.36651262e-02 6.36681279e-02 7.55460547e-02 1.38316162e-02]\n",
      " [1.78793620e-02 4.28846315e-02 4.20844700e-02 3.80501739e-02]\n",
      " [1.46059736e-02 2.78629128e-02 3.28283455e-02 6.81276332e-03]\n",
      " [7.91343251e-03 1.88376085e-02 1.85956726e-02 1.63563618e-02]\n",
      " [6.27697904e-03 1.19246003e-02 1.40973894e-02 2.75990561e-03]]\n",
      "[[ 3.44917927 -1.40991445 -0.49550282 -1.02075715]\n",
      " [-1.40991445  3.39848222 -0.4716377  -1.1069562 ]\n",
      " [-0.49550282 -0.4716377   4.25924027 -0.57137278]\n",
      " [-1.02075715 -1.1069562  -0.57137278  4.13422918]]\n"
     ]
    }
   ],
   "source": [
    "\n",
    "def func(x):\n",
    "    return (x[0] - 4) ** 2 / 10 + (5 - x[1]) ** 2\n",
    "\n",
    "\n",
    "def lr_wrapper(eps, delt):\n",
    "    return lambda func: dichotomy(func, 0, right_border_calc(func), eps, delt)\n",
    "\n",
    "\n",
    "print(grad_desc(Function(FunctionCalculator(func_generator(4, 5)).calculate), lr_wrapper(0.01, 0.0002),\n",
    "                np.array((20., 20., 20., 20.)), 0.001))"
   ],
   "metadata": {
    "collapsed": false
   }
  },
  {
   "cell_type": "code",
   "execution_count": 8,
   "outputs": [],
   "source": [],
   "metadata": {
    "collapsed": false
   }
  }
 ],
 "metadata": {
  "kernelspec": {
   "display_name": "Python 3",
   "language": "python",
   "name": "python3"
  },
  "language_info": {
   "codemirror_mode": {
    "name": "ipython",
    "version": 2
   },
   "file_extension": ".py",
   "mimetype": "text/x-python",
   "name": "python",
   "nbconvert_exporter": "python",
   "pygments_lexer": "ipython2",
   "version": "2.7.6"
  }
 },
 "nbformat": 4,
 "nbformat_minor": 0
}
